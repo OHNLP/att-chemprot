{
 "cells": [
  {
   "cell_type": "code",
   "execution_count": 30,
   "metadata": {
    "collapsed": true
   },
   "outputs": [],
   "source": [
    "from collections import Counter, defaultdict"
   ]
  },
  {
   "cell_type": "code",
   "execution_count": 37,
   "metadata": {
    "collapsed": false
   },
   "outputs": [],
   "source": [
    "kw_label_dict = defaultdict(list)\n",
    "\n",
    "kw_file = 'output/kw/att_keywords.txt'\n",
    "\n",
    "with open(kw_file) as f:\n",
    "    for line in f:\n",
    "        label, kw = line.strip().split()\n",
    "        kw_label_dict[label].append(kw)"
   ]
  },
  {
   "cell_type": "code",
   "execution_count": 39,
   "metadata": {
    "collapsed": false
   },
   "outputs": [
    {
     "name": "stdout",
     "output_type": "stream",
     "text": [
      "\n",
      "CPR:6\n",
      "antagonist (91, 49.5%)\n",
      "antagonists (60, 32.6%)\n",
      "antagonism (11, 6.0%)\n",
      "agonist (7, 3.8%)\n",
      "receptor (4, 2.2%)\n",
      "antagonistic (2, 1.1%)\n",
      "agonists (2, 1.1%)\n",
      "potentiation (1, 0.5%)\n",
      "antagonizing (1, 0.5%)\n",
      "activation (1, 0.5%)\n",
      "\n",
      "CPR:4\n",
      "inhibitor (192, 19.4%)\n",
      "inhibitors (128, 12.9%)\n",
      "inhibition (105, 10.6%)\n",
      "inhibited (60, 6.1%)\n",
      "inhibits (33, 3.3%)\n",
      "mrna (30, 3.0%)\n",
      "reductase (23, 2.3%)\n",
      "inhibit (20, 2.0%)\n",
      "phosphorylation (18, 1.8%)\n",
      "expression (18, 1.8%)\n",
      "\n",
      "CPR:5\n",
      "agonist (51, 45.5%)\n",
      "agonists (45, 40.2%)\n",
      "receptors (13, 11.6%)\n",
      "receptor (2, 1.8%)\n",
      "antagonism (1, 0.9%)\n",
      "\n",
      "CPR:3\n",
      "expression (44, 8.8%)\n",
      "mrna (32, 6.4%)\n",
      "phosphorylation (30, 6.0%)\n",
      "activation (26, 5.2%)\n",
      "inhibited (23, 4.6%)\n",
      "activity (16, 3.2%)\n",
      "gene (15, 3.0%)\n",
      "increased (14, 2.8%)\n",
      "agonist (14, 2.8%)\n",
      "inhibition (13, 2.6%)\n",
      "\n",
      "NA\n",
      "receptor (469, 6.2%)\n",
      "inhibitor (352, 4.7%)\n",
      "receptors (301, 4.0%)\n",
      "inhibition (294, 3.9%)\n",
      "reductase (261, 3.4%)\n",
      "antagonist (254, 3.4%)\n",
      "agonist (221, 2.9%)\n",
      "gene (203, 2.7%)\n",
      "enzyme (166, 2.2%)\n",
      "expression (159, 2.1%)\n",
      "\n",
      "CPR:9\n",
      "enzyme (43, 10.6%)\n",
      "transporter (33, 8.1%)\n",
      "uptake (26, 6.4%)\n",
      "catalyzes (23, 5.7%)\n",
      "catalyzed (19, 4.7%)\n",
      "metabolized (17, 4.2%)\n",
      "catalyses (16, 3.9%)\n",
      "synthesis (16, 3.9%)\n",
      "biosynthesis (15, 3.7%)\n",
      "substrate (14, 3.4%)\n"
     ]
    }
   ],
   "source": [
    "for label, kw_list in kw_label_dict.iteritems():\n",
    "    \n",
    "    ct = Counter(kw_list)\n",
    "    total = sum(ct.values())\n",
    "    print \n",
    "    print label \n",
    "    for kw, count in ct.most_common(10):\n",
    "        print \"%s (%d, %.1f%%)\" % (kw, count, 100 * float(count) / total)"
   ]
  },
  {
   "cell_type": "code",
   "execution_count": 33,
   "metadata": {
    "collapsed": false
   },
   "outputs": [
    {
     "data": {
      "text/plain": [
       "99.1"
      ]
     },
     "execution_count": 33,
     "metadata": {},
     "output_type": "execute_result"
    }
   ],
   "source": [
    "45.5 + 40.2 + 11.6 + 1.8"
   ]
  },
  {
   "cell_type": "code",
   "execution_count": 43,
   "metadata": {
    "collapsed": false
   },
   "outputs": [],
   "source": [
    "cm = [[8833,  198 , 527 , 100,  104  ,223],\n",
    " [ 321 , 203  , 69  ,  2 ,   0 ,   3],\n",
    " [ 527  , 33 , 919  ,  4 ,   6 ,  23],\n",
    " [  57  ,  1  ,  1 ,  93 ,   8 ,   1],\n",
    " [ 106  ,  0  ,  3  , 10  ,151 ,   0],\n",
    " [ 314  ,  1  , 14  ,  0  ,  1 , 239]]\n"
   ]
  },
  {
   "cell_type": "markdown",
   "metadata": {},
   "source": [
    "## Confusion matrix "
   ]
  },
  {
   "cell_type": "code",
   "execution_count": 62,
   "metadata": {
    "collapsed": false
   },
   "outputs": [],
   "source": [
    "import itertools\n",
    "import numpy as np\n",
    "import matplotlib.pyplot as plt\n",
    "\n",
    "from sklearn import svm, datasets\n",
    "from sklearn.model_selection import train_test_split\n",
    "from sklearn.metrics import confusion_matrix\n",
    "\n",
    "%matplotlib inline\n",
    "\n",
    "def plot_confusion_matrix(cm, classes,\n",
    "                          normalize=False,\n",
    "                          title='Confusion matrix',\n",
    "                          cmap=plt.cm.Blues):\n",
    "    \"\"\"\n",
    "    This function prints and plots the confusion matrix.\n",
    "    Normalization can be applied by setting `normalize=True`.\n",
    "    \"\"\"\n",
    "    if normalize:\n",
    "        cm_int = cm\n",
    "        cm = cm.astype('float') / cm.sum(axis=1)[:, np.newaxis]\n",
    "        print(\"Normalized confusion matrix\")\n",
    "    else:\n",
    "        print('Confusion matrix, without normalization')\n",
    "\n",
    "    print(cm)\n",
    "\n",
    "    plt.imshow(cm, interpolation='nearest', cmap=cmap)\n",
    "#     plt.colorbar()\n",
    "    tick_marks = np.arange(len(classes))\n",
    "    plt.xticks(tick_marks, classes, rotation=45)\n",
    "    plt.yticks(tick_marks, classes)\n",
    "\n",
    "   #  fmt = '.2f' if normalize else 'd'\n",
    "    fmt = 'd'\n",
    "    thresh = cm.max() / 2.\n",
    "    for i, j in itertools.product(range(cm.shape[0]), range(cm.shape[1])):\n",
    "        plt.text(j, i, format(cm_int[i, j], fmt),\n",
    "                 horizontalalignment=\"center\",\n",
    "                 color=\"white\" if cm[i, j] > thresh else \"black\")\n",
    "\n",
    "    plt.tight_layout()\n",
    "    plt.ylabel('Gold Standard Label')\n",
    "    plt.xlabel('Predicted label')\n"
   ]
  },
  {
   "cell_type": "code",
   "execution_count": 64,
   "metadata": {
    "collapsed": false
   },
   "outputs": [
    {
     "name": "stdout",
     "output_type": "stream",
     "text": [
      "Normalized confusion matrix\n",
      "[[ 0.88462694  0.01982974  0.05277917  0.01001502  0.01041562  0.0223335 ]\n",
      " [ 0.5367893   0.33946488  0.11538462  0.00334448  0.          0.00501672]\n",
      " [ 0.34854497  0.0218254   0.60780423  0.0026455   0.00396825  0.01521164]\n",
      " [ 0.35403727  0.00621118  0.00621118  0.57763975  0.04968944  0.00621118]\n",
      " [ 0.39259259  0.          0.01111111  0.03703704  0.55925926  0.        ]\n",
      " [ 0.55184534  0.00175747  0.02460457  0.          0.00175747  0.42003515]]\n"
     ]
    },
    {
     "data": {
      "image/png": "[encoded data removed]",
      "text/plain": [
       "<matplotlib.figure.Figure at 0x1161cc890>"
      ]
     },
     "metadata": {},
     "output_type": "display_data"
    }
   ],
   "source": [
    "# Plot non-normalized confusion matrix\n",
    "\n",
    "class_names = ['NA',\n",
    "            'CPR:3',\n",
    "            'CPR:4',\n",
    "            'CPR:5',\n",
    "            'CPR:6',\n",
    "            'CPR:9']\n",
    "\n",
    "plt.figure(figsize=(8, 8), dpi=300)\n",
    "\n",
    "plot_confusion_matrix(np.array(cm), classes=class_names, normalize=True)\n"
   ]
  },
  {
   "cell_type": "code",
   "execution_count": null,
   "metadata": {
    "collapsed": true
   },
   "outputs": [],
   "source": []
  }
 ],
 "metadata": {
  "kernelspec": {
   "display_name": "Python 2",
   "language": "python",
   "name": "python2"
  },
  "language_info": {
   "codemirror_mode": {
    "name": "ipython",
    "version": 2
   },
   "file_extension": ".py",
   "mimetype": "text/x-python",
   "name": "python",
   "nbconvert_exporter": "python",
   "pygments_lexer": "ipython2",
   "version": "2.7.12"
  }
 },
 "nbformat": 4,
 "nbformat_minor": 0
}
